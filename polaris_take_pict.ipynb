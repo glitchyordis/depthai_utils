{
 "cells": [
  {
   "cell_type": "code",
   "execution_count": 1,
   "metadata": {},
   "outputs": [],
   "source": [
    "import depthai as dai\n",
    "from polaris_pkg import GUIWindows, GUIMaker, Camera\n",
    "import pathlib "
   ]
  },
  {
   "cell_type": "code",
   "execution_count": 2,
   "metadata": {},
   "outputs": [
    {
     "name": "stderr",
     "output_type": "stream",
     "text": [
      "[2023-07-19 16:22:31,541] [    INFO] camera.py:157 - Found oakMxid: 18443010916E341300\n"
     ]
    }
   ],
   "source": [
    "guimaker = GUIMaker()\n",
    "gui_wins = GUIWindows()\n",
    "cam = Camera()\n",
    "\n",
    "save_path = pathlib.Path.cwd()\n",
    "\n",
    "gui_wins.main_win = guimaker.make_dataset_collector_win(save_path)\n",
    "cam.gui_wins = gui_wins\n",
    "\n",
    "cam.start_dataset_collector_mode(save_path)"
   ]
  }
 ],
 "metadata": {
  "kernelspec": {
   "display_name": "polarisenv2",
   "language": "python",
   "name": "python3"
  },
  "language_info": {
   "codemirror_mode": {
    "name": "ipython",
    "version": 3
   },
   "file_extension": ".py",
   "mimetype": "text/x-python",
   "name": "python",
   "nbconvert_exporter": "python",
   "pygments_lexer": "ipython3",
   "version": "3.9.12"
  },
  "orig_nbformat": 4,
  "vscode": {
   "interpreter": {
    "hash": "843312d335f2de005880c0087c7e194a177922c6f7558cac369d851781376651"
   }
  }
 },
 "nbformat": 4,
 "nbformat_minor": 2
}
